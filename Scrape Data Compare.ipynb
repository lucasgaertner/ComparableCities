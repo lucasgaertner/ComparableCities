{
 "cells": [
  {
   "cell_type": "code",
   "execution_count": 1,
   "metadata": {},
   "outputs": [
    {
     "name": "stderr",
     "output_type": "stream",
     "text": [
      "usage: conda-script.py [-h] [-V] command ...\n",
      "conda-script.py: error: unrecognized arguments: # uncomment this line if you haven't completed the Foursquare API lab\n"
     ]
    },
    {
     "name": "stdout",
     "output_type": "stream",
     "text": [
      "Libraries imported.\n"
     ]
    }
   ],
   "source": [
    "import matplotlib.pyplot as plt\n",
    "\n",
    "import numpy as np # library to handle data in a vectorized manner\n",
    "\n",
    "import pandas as pd # library for data analsysis\n",
    "pd.set_option('display.max_columns', None)\n",
    "pd.set_option('display.max_rows', None)\n",
    "\n",
    "import json # library to handle JSON files\n",
    "\n",
    "!conda install -c conda-forge geopy --yes # uncomment this line if you haven't completed the Foursquare API lab\n",
    "from geopy.geocoders import Nominatim # convert an address into latitude and longitude values\n",
    "\n",
    "import requests # library to handle requests\n",
    "from pandas.io.json import json_normalize # tranform JSON file into a pandas dataframe\n",
    "\n",
    "# Matplotlib and associated plotting modules\n",
    "import matplotlib.cm as cm\n",
    "import matplotlib.colors as colors\n",
    "\n",
    "# import k-means from clustering stage\n",
    "#from sklearn.cluster import KMeans\n",
    "\n",
    "#!conda install -c conda-forge folium=0.5.0 --yes # uncomment this line if you haven't completed the Foursquare API lab\n",
    "import folium # map rendering library\n",
    "\n",
    "import re\n",
    "from requests import get\n",
    "from bs4 import BeautifulSoup\n",
    "\n",
    "print('Libraries imported.')"
   ]
  },
  {
   "cell_type": "code",
   "execution_count": 2,
   "metadata": {},
   "outputs": [],
   "source": [
    "# Static Cities\n",
    "\n",
    "#https://www.dw.com/en/top-10-germanys-largest-cities/g-52632011\n",
    "biggest_cities_l = [\"Berlin\", \"Hamburg\", \"Munich\", \"Cologne\", \"Frankfurt\", \"Stuttgart\", \"Düsseldorf\", \"Leipzig\", \"Dortmund\", \"Essen\"]\n",
    "\n",
    "city_links = { 'Essen': 'https://www.immowelt.de/regioinfos/ortsliste.aspx?geoid=10805113000',\n",
    "'Dortmund': 'https://www.immowelt.de/regioinfos/ortsliste.aspx?geoid=10805913000',\n",
    "'Leipzig': 'https://www.immowelt.de/regioinfos/ortsliste.aspx?geoid=10814365000',\n",
    "'Düsseldorf': 'https://www.immowelt.de/regioinfos/ortsliste.aspx?geoid=10805111000',\n",
    "'Stuttgart': 'https://www.immowelt.de/regioinfos/ortsliste.aspx?geoid=10808111000',\n",
    "'Frankfurt am Main': 'https://www.immowelt.de/regioinfos/ortsliste.aspx?geoid=10806412000',\n",
    "'Cologne': 'https://www.immowelt.de/regioinfos/ortsliste.aspx?geoid=10805315000',\n",
    "'Munich': 'https://www.immowelt.de/regioinfos/ortsliste.aspx?geoid=10809162000',\n",
    "'Hamburg': 'https://www.immowelt.de/regioinfos/ortsliste.aspx?geoid=108020',\n",
    "'Berlin': 'https://www.immowelt.de/regioinfos/ortsliste.aspx?geoid=108110'\n",
    "}"
   ]
  },
  {
   "cell_type": "code",
   "execution_count": 3,
   "metadata": {},
   "outputs": [],
   "source": [
    "cities = {}\n",
    "for city, link in city_links.items():\n",
    "    cities[city] = []\n",
    "    response = get(link)\n",
    "    html_soup = BeautifulSoup(response.text, 'html.parser')\n",
    "    for ultag in html_soup.find_all('ul', {'class': 'linklist_icon_01'}):\n",
    "        for litag in ultag.find_all('li'):\n",
    "            get_city = litag.text\n",
    "            get_city = get_city.split(\" \")\n",
    "            cleaned_cities = re.sub('[()]', '', get_city[1])\n",
    "            cities[city].append(cleaned_cities + \", \" + get_city[0])"
   ]
  },
  {
   "cell_type": "code",
   "execution_count": 4,
   "metadata": {},
   "outputs": [
    {
     "name": "stdout",
     "output_type": "stream",
     "text": [
      "https://de.wikipedia.org/wiki/Essen\n",
      "https://de.wikipedia.org/wiki/Dortmund\n",
      "https://de.wikipedia.org/wiki/Leipzig\n",
      "https://de.wikipedia.org/wiki/Düsseldorf\n",
      "https://de.wikipedia.org/wiki/Stuttgart\n",
      "https://de.wikipedia.org/wiki/Frankfurt_am_Main\n",
      "https://de.wikipedia.org/wiki/Köln\n",
      "https://de.wikipedia.org/wiki/München\n",
      "https://de.wikipedia.org/wiki/Hamburg\n",
      "https://de.wikipedia.org/wiki/Berlin\n"
     ]
    }
   ],
   "source": [
    "url = \"https://de.wikipedia.org/wiki/{}\"\n",
    "city_dic = {}\n",
    "for name in cities.keys():\n",
    "    name = name.replace(\" \", \"_\")\n",
    "    \n",
    "    # Data preparation\n",
    "    if name == \"Munich\":\n",
    "        name = \"München\"\n",
    "    elif name == \"Cologne\":\n",
    "        name = \"Köln\"\n",
    "        \n",
    "    div_box = \"Vorlage_Infobox_Verwaltungseinheit_in_Deutschland\"\n",
    "    #prepare link\n",
    "    n_link = url.format(name)\n",
    "    print(n_link)\n",
    "    content_dic = {}\n",
    "    response = get(n_link)\n",
    "    html_soup = BeautifulSoup(response.text, 'html.parser')\n",
    "    check = html_soup.find_all('table', {'id': 'Vorlage_Infobox_Verwaltungseinheit_in_Deutschland'})\n",
    "    if check:\n",
    "        for tr in check:\n",
    "            for td in tr.find_all('td'):\n",
    "                if td.text.strip() == \"Einwohner:\":\n",
    "                    population = (td.find_next('td').text.strip().split(\" \"))\n",
    "                    population = int(population[0].replace(\".\", \"\"))\n",
    "                    content_dic[\"Citizen\"] = population\n",
    "                if td.text.strip() == \"Fläche:\":\n",
    "                    surface = (td.find_next('td').text.strip().split(\" \"))\n",
    "                    content_dic[\"Surface\"] = surface[0]\n",
    "                    #print(population, name)\n",
    "    else:\n",
    "        for tr in check:\n",
    "            for td in tr.find_all('td'):\n",
    "                if td.text.strip() == \"Einwohner:\":\n",
    "                    population = (td.find_next('td').text.strip().split(\" \")[0])\n",
    "                    population = int(population[0].replace(\".\", \"\"))\n",
    "                    content_dic[\"Citizen\"] = population\n",
    "                if td.text.strip() == \"Fläche:\":\n",
    "                    surface = (td.find_next('td').text.strip().split(\" \"))\n",
    "                    content_dic[\"Surface\"] = surface[0]\n",
    "    city_dic[name] = content_dic"
   ]
  },
  {
   "cell_type": "markdown",
   "metadata": {},
   "source": [
    "<h2> Berlin, Hamburg no match with scraping. Too short this up, hard code the data"
   ]
  },
  {
   "cell_type": "code",
   "execution_count": 5,
   "metadata": {},
   "outputs": [
    {
     "data": {
      "text/plain": [
       "{'Essen': {'Surface': '210,34', 'Citizen': 582760},\n",
       " 'Dortmund': {'Surface': '280,71', 'Citizen': 588250},\n",
       " 'Leipzig': {'Surface': '297,8', 'Citizen': 593145},\n",
       " 'Düsseldorf': {'Surface': '217,41', 'Citizen': 621877},\n",
       " 'Stuttgart': {'Surface': '207,35', 'Citizen': 634830},\n",
       " 'Frankfurt_am_Main': {'Surface': '248,31', 'Citizen': 761561},\n",
       " 'Köln': {'Surface': '405,02', 'Citizen': 1087863},\n",
       " 'München': {'Surface': '310,7', 'Citizen': 1484226},\n",
       " 'Hamburg': {'Surface': '755,22', 'Citizen': 1899160},\n",
       " 'Berlin': {'Surface': '891,68', 'Citizen': 3669491}}"
      ]
     },
     "execution_count": 5,
     "metadata": {},
     "output_type": "execute_result"
    }
   ],
   "source": [
    "city_dic[\"Berlin\"][\"Surface\"] = '891,68\\xa0km2'\n",
    "city_dic[\"Berlin\"][\"Citizen\"] = 3669491\n",
    "\n",
    "city_dic[\"Hamburg\"][\"Surface\"] = '755,22\\xa0km2'\n",
    "city_dic[\"Hamburg\"][\"Citizen\"] = 1899160\n",
    "\n",
    "# data normalization\n",
    "for city in city_dic:\n",
    "    value = city_dic[city][\"Surface\"]\n",
    "    city_dic[city][\"Surface\"] = value.replace(\"\\xa0km2\", \"\")\n",
    "\n",
    "city_dic"
   ]
  },
  {
   "cell_type": "code",
   "execution_count": 6,
   "metadata": {},
   "outputs": [
    {
     "data": {
      "text/plain": [
       "<BarContainer object of 10 artists>"
      ]
     },
     "execution_count": 6,
     "metadata": {},
     "output_type": "execute_result"
    },
    {
     "data": {
      "image/png": "[encoded data removed]",
      "text/plain": [
       "<Figure size 3600x720 with 1 Axes>"
      ]
     },
     "metadata": {
      "needs_background": "light"
     },
     "output_type": "display_data"
    }
   ],
   "source": [
    "names = city_dic.keys()\n",
    "values = [city_dic[i][\"Surface\"] for i in city_dic.keys()]\n",
    "\n",
    "plt.figure(figsize=(50, 10))\n",
    "\n",
    "plt.subplot(131)\n",
    "plt.bar(names, values)"
   ]
  },
  {
   "cell_type": "code",
   "execution_count": 7,
   "metadata": {},
   "outputs": [
    {
     "data": {
      "text/plain": [
       "<BarContainer object of 10 artists>"
      ]
     },
     "execution_count": 7,
     "metadata": {},
     "output_type": "execute_result"
    },
    {
     "data": {
      "image/png": "[encoded data removed]",
      "text/plain": [
       "<Figure size 3600x720 with 1 Axes>"
      ]
     },
     "metadata": {
      "needs_background": "light"
     },
     "output_type": "display_data"
    }
   ],
   "source": [
    "names = city_dic.keys()\n",
    "values = [city_dic[i][\"Citizen\"] for i in city_dic.keys()]\n",
    "\n",
    "plt.figure(figsize=(50, 10))\n",
    "\n",
    "plt.subplot(131)\n",
    "plt.bar(names, values)"
   ]
  },
  {
   "cell_type": "code",
   "execution_count": 8,
   "metadata": {},
   "outputs": [
    {
     "data": {
      "text/plain": [
       "[582760,\n",
       " 588250,\n",
       " 593145,\n",
       " 621877,\n",
       " 634830,\n",
       " 761561,\n",
       " 1087863,\n",
       " 1484226,\n",
       " 1899160,\n",
       " 3669491]"
      ]
     },
     "execution_count": 8,
     "metadata": {},
     "output_type": "execute_result"
    }
   ],
   "source": [
    "l = [city_dic[i][\"Citizen\"] for i in city_dic.keys()]\n",
    "l"
   ]
  },
  {
   "cell_type": "code",
   "execution_count": null,
   "metadata": {},
   "outputs": [],
   "source": []
  }
 ],
 "metadata": {
  "kernelspec": {
   "display_name": "Python 3",
   "language": "python",
   "name": "python3"
  },
  "language_info": {
   "codemirror_mode": {
    "name": "ipython",
    "version": 3
   },
   "file_extension": ".py",
   "mimetype": "text/x-python",
   "name": "python",
   "nbconvert_exporter": "python",
   "pygments_lexer": "ipython3",
   "version": "3.7.4"
  }
 },
 "nbformat": 4,
 "nbformat_minor": 2
}
